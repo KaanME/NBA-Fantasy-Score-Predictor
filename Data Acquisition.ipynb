{
 "cells": [
  {
   "cell_type": "markdown",
   "metadata": {
    "collapsed": true
   },
   "source": [
    "# Data Acquisition: Scraping DraftKings and NBA Data\n",
    "\n",
    "## 1) Import relevant packages"
   ]
  },
  {
   "cell_type": "code",
   "execution_count": 30,
   "metadata": {
    "collapsed": true
   },
   "outputs": [],
   "source": [
    "import pandas as pd\n",
    "import requests\n",
    "from bs4 import BeautifulSoup\n",
    "import datetime as dt\n",
    "import pickle\n",
    "import json\n",
    "import time\n",
    "\n"
   ]
  },
  {
   "cell_type": "markdown",
   "metadata": {},
   "source": [
    "## 2) Scrape DraftKings data from Rotoguru\n",
    "\n",
    "Rotoguru is a website that contains DraftKings and Fan Duel daily NBA fantasy data for each day of the NBA season. \n",
    "The data in each table contains the player names, the team they play for, the opponent team the daily fantasy score\n",
    "and salary of each player on a given night on a datetime index. The data only goes back to the 2014-15 season, and the stats column is all text with missing information, so this dataset alone will not be enough for the project. \n",
    "\n",
    "### Define constants and functions"
   ]
  },
  {
   "cell_type": "code",
   "execution_count": 31,
   "metadata": {},
   "outputs": [],
   "source": [
    "#The base url is constant except for the year, month, and day\n",
    "base_url = 'http://rotoguru1.com/cgi-bin/hyday.pl?game=dk&mon=MONTH&day=DAY&year=YEAR'\n",
    "\n",
    "#need string values of each day month and year we're concerned with\n",
    "days = [str(x) for x in range(1,32)]\n",
    "\n",
    "#there are no NBA games from July to September\n",
    "months = ['1','2','3','4','5','6','10','11','12']\n",
    "\n",
    "#Rotoguru data only goes back to the 2014-15 season\n",
    "years = [str(x) for x in range(2014,2019)]\n",
    "\n",
    "#Loop through each day, month, and year with function to pull the relevant table from the base_url\n",
    "def rotoScrape(year,month,day):\n",
    "    global base_url\n",
    "    \n",
    "    #sanity check to see where your loop is, not required\n",
    "    print(year + '-' + month + '-' + day) \n",
    "    \n",
    "    #pull and request the url, than use Beautiful soup to bring in desired table\n",
    "    url = base_url.replace('DAY',day).replace('MONTH',month).replace('YEAR',year)\n",
    "    r = requests.get(url)\n",
    "    soup = BeautifulSoup(r.content,'lxml')\n",
    "    \n",
    "    #the 10th table on each page is where the relevant information lies\n",
    "    table = soup.find_all('table')[9]\n",
    "    \n",
    "    #some days don't have any games, or no data, mark those pages with 'error' string\n",
    "    try:\n",
    "        #the table returned with soup has a few indexes, we only want the first\n",
    "        return pd.read_html(str(table))[0]\n",
    "    except ValueError:\n",
    "        return 'error'\n",
    "\n"
   ]
  },
  {
   "cell_type": "markdown",
   "metadata": {},
   "source": [
    "### Scrape the data\n",
    "#### NOTE: function takes about 2-3 seconds per loop, looping through every year, month, day will take 10-15 minutes"
   ]
  },
  {
   "cell_type": "code",
   "execution_count": 32,
   "metadata": {
    "scrolled": false
   },
   "outputs": [
    {
     "name": "stdout",
     "output_type": "stream",
     "text": [
      "2015-1-1\n",
      "2015-1-2\n",
      "2015-1-3\n"
     ]
    }
   ],
   "source": [
    "#create a dictionary with the days as keys and the scraped data as values, remove slicing to loop through all data\n",
    "DKdata = {(year+'-'+month+'-'+day):rotoScrape(year,month,day) \n",
    "                for year in years[1:2] for month in months[:1] for day in days[:3]}\n",
    "\n",
    "#write the dictionary of dataframes into a pickle file\n",
    "pickle.dump(DKdata,open('dk_partial.p','wb'))\n"
   ]
  },
  {
   "cell_type": "markdown",
   "metadata": {},
   "source": [
    "## 3) Scrape NBA  Boxscore Data\n",
    "\n",
    "The nba_py package on Github is a great resource for scraping the NBA.com API. In order to have a large enough dataset, I scraped every players gamelogs for every regular season game in every year since the 2007-08 season. This dataset contains the player name, NBA player ID, the team they're on and the opponent as well as every box score stat on a datetime index.\n",
    "\n",
    "### Import relevant nba_py functions"
   ]
  },
  {
   "cell_type": "code",
   "execution_count": 33,
   "metadata": {
    "collapsed": true
   },
   "outputs": [],
   "source": [
    "#For NBA data use the nba_py package\n",
    "import nba_py\n",
    "from nba_py.player import PlayerList, PlayerGameLogs\n",
    "from nba_py.game import Boxscore\n"
   ]
  },
  {
   "cell_type": "markdown",
   "metadata": {},
   "source": [
    "### Obtain a list of players for each season"
   ]
  },
  {
   "cell_type": "code",
   "execution_count": 34,
   "metadata": {
    "collapsed": true
   },
   "outputs": [],
   "source": [
    "#The nba_py PLayerList function takes season as an input in the YYYY-yy format\n",
    "seasons = ['2007-08','2008-09','2009-10','2010-11','2011-12','2012-13','2013-14','2014-15','2015-16','2016-17','2017-18']\n",
    "\n",
    "#PlayerList returns a list of all NBA players for the current season if only_current = 1\n",
    "#if not it returns all players in history\n",
    "players = PlayerList(league_id='00', only_current=0).info()\n",
    "\n",
    "#convert FROM_YEAR and TO_YEAR columns to numeric to filter out players by year\n",
    "players.TO_YEAR = pd.to_numeric(players.TO_YEAR)\n",
    "players.FROM_YEAR = pd.to_numeric(players.FROM_YEAR)\n",
    "\n",
    "#filter out players that actually played in each season, organize into a dictionary with the seasons as keys\n",
    "seasonPlyr = {s:players.loc[(players.FROM_YEAR <= int(s[:4])) & (players.TO_YEAR >= int(s[:4]))] for s in seasons}\n",
    "seasonPlyr = {s:seasonPlyr[s].sort_values('DISPLAY_FIRST_LAST') for s in seasonPlyr}"
   ]
  },
  {
   "cell_type": "markdown",
   "metadata": {},
   "source": [
    "### Define the scraping function"
   ]
  },
  {
   "cell_type": "code",
   "execution_count": 37,
   "metadata": {
    "collapsed": true
   },
   "outputs": [],
   "source": [
    "#define function to scrape gamelogs of a certain player in a given season\n",
    "def getlogs(player, season):\n",
    "        try:\n",
    "            #the PlayerGameLogs function takes playerID and season as inputs, players DateFrame as lookup for id's\n",
    "            playerlogs = PlayerGameLogs(players.PERSON_ID.loc[players.DISPLAY_FIRST_LAST == player],season = season)\n",
    "        except: \n",
    "            #if there is an error in pulling the data, flag it\n",
    "            return ['ERROR']\n",
    "        \n",
    "        #another sanity check when the scraping actually begins, not required\n",
    "        print(season, player)\n",
    "        \n",
    "        #the NBA API seems to freeze if it is call too many times in a short period of time\n",
    "        #pause for a 1 second after each call\n",
    "        time.sleep(1)\n",
    "        \n",
    "        #The PlayerGameLogs funtion has a json endpoint, the following path gives us a DataFrame for each \n",
    "        #player containing boxscore data for each game they played that season\n",
    "        return playerlogs.info()\n"
   ]
  },
  {
   "cell_type": "markdown",
   "metadata": {},
   "source": [
    "### Scrape gamelog data per season\n",
    "\n",
    "#### NOTE: Looping through every player in every season will take about 2.5 hours, about 1.5 seconds per player"
   ]
  },
  {
   "cell_type": "code",
   "execution_count": 38,
   "metadata": {
    "scrolled": true
   },
   "outputs": [
    {
     "name": "stdout",
     "output_type": "stream",
     "text": [
      "2007-08 Aaron Brooks\n",
      "2007-08 Aaron Gray\n",
      "2007-08 Aaron Williams\n"
     ]
    }
   ],
   "source": [
    "#Create nested dictionary, Level1 keys = season, Level2 keys = player, values = gamelog list of lists\n",
    "#Remove slicing to loop through every player in past 10 years, CAUTION SEE NOTE\n",
    "gamelogs = {s:{player:getlogs(player,s) for player in seasonPlyr[s].DISPLAY_FIRST_LAST[:3]} for s in seasons[:1]}\n",
    "\n",
    "#write the scraped data to pickle file as soon as it is done\n",
    "pickle.dump(gamelogs,open('gamelogsraw_partial.p','wb')) "
   ]
  },
  {
   "cell_type": "markdown",
   "metadata": {},
   "source": [
    "## 4) Scrape NBA Roster Data\n",
    "\n",
    "This will give us roster information such as the teamID of each player as well as their position, weight, height, and more."
   ]
  },
  {
   "cell_type": "code",
   "execution_count": 41,
   "metadata": {
    "collapsed": true
   },
   "outputs": [],
   "source": [
    "#Import team module from nba_py\n",
    "from nba_py import team\n",
    "\n",
    "#define function to get roster for a team in a given season, \n",
    "def getRoster(teamId, season):\n",
    "    #sanity check for looping progress\n",
    "    print(season)\n",
    "    #NBA API requires some sleep time or else it freezes\n",
    "    time.sleep(.5)\n",
    "    return team.TeamCommonRoster(teamId, season= season).roster()"
   ]
  },
  {
   "cell_type": "code",
   "execution_count": 42,
   "metadata": {},
   "outputs": [
    {
     "data": {
      "text/html": [
       "<div>\n",
       "<style>\n",
       "    .dataframe thead tr:only-child th {\n",
       "        text-align: right;\n",
       "    }\n",
       "\n",
       "    .dataframe thead th {\n",
       "        text-align: left;\n",
       "    }\n",
       "\n",
       "    .dataframe tbody tr th {\n",
       "        vertical-align: top;\n",
       "    }\n",
       "</style>\n",
       "<table border=\"1\" class=\"dataframe\">\n",
       "  <thead>\n",
       "    <tr style=\"text-align: right;\">\n",
       "      <th></th>\n",
       "      <th>LEAGUE_ID</th>\n",
       "      <th>TEAM_ID</th>\n",
       "      <th>MIN_YEAR</th>\n",
       "      <th>MAX_YEAR</th>\n",
       "      <th>ABBREVIATION</th>\n",
       "    </tr>\n",
       "  </thead>\n",
       "  <tbody>\n",
       "    <tr>\n",
       "      <th>0</th>\n",
       "      <td>00</td>\n",
       "      <td>1610612737</td>\n",
       "      <td>1949</td>\n",
       "      <td>2017</td>\n",
       "      <td>ATL</td>\n",
       "    </tr>\n",
       "    <tr>\n",
       "      <th>1</th>\n",
       "      <td>00</td>\n",
       "      <td>1610612738</td>\n",
       "      <td>1946</td>\n",
       "      <td>2017</td>\n",
       "      <td>BOS</td>\n",
       "    </tr>\n",
       "    <tr>\n",
       "      <th>2</th>\n",
       "      <td>00</td>\n",
       "      <td>1610612739</td>\n",
       "      <td>1970</td>\n",
       "      <td>2017</td>\n",
       "      <td>CLE</td>\n",
       "    </tr>\n",
       "    <tr>\n",
       "      <th>3</th>\n",
       "      <td>00</td>\n",
       "      <td>1610612740</td>\n",
       "      <td>2002</td>\n",
       "      <td>2017</td>\n",
       "      <td>NOP</td>\n",
       "    </tr>\n",
       "    <tr>\n",
       "      <th>4</th>\n",
       "      <td>00</td>\n",
       "      <td>1610612741</td>\n",
       "      <td>1966</td>\n",
       "      <td>2017</td>\n",
       "      <td>CHI</td>\n",
       "    </tr>\n",
       "  </tbody>\n",
       "</table>\n",
       "</div>"
      ],
      "text/plain": [
       "  LEAGUE_ID     TEAM_ID MIN_YEAR MAX_YEAR ABBREVIATION\n",
       "0        00  1610612737     1949     2017          ATL\n",
       "1        00  1610612738     1946     2017          BOS\n",
       "2        00  1610612739     1970     2017          CLE\n",
       "3        00  1610612740     2002     2017          NOP\n",
       "4        00  1610612741     1966     2017          CHI"
      ]
     },
     "execution_count": 42,
     "metadata": {},
     "output_type": "execute_result"
    }
   ],
   "source": [
    "#Pull the list of teams with the teamlist function\n",
    "teams = team.TeamList().info()\n",
    "teams.head()"
   ]
  },
  {
   "cell_type": "code",
   "execution_count": 46,
   "metadata": {},
   "outputs": [
    {
     "name": "stdout",
     "output_type": "stream",
     "text": [
      "Number of Teams: 30\n"
     ]
    }
   ],
   "source": [
    "#We only want teams that are currently active\n",
    "teams = teams.loc[teams.MAX_YEAR == '2017']    \n",
    "print('Number of Teams:',len(teams))"
   ]
  },
  {
   "cell_type": "code",
   "execution_count": 47,
   "metadata": {},
   "outputs": [
    {
     "name": "stdout",
     "output_type": "stream",
     "text": [
      "2007-08\n",
      "2007-08\n",
      "2008-09\n",
      "2008-09\n"
     ]
    }
   ],
   "source": [
    "#Remove slicing to loop through every team in past 10 years\n",
    "#NOTE: this will take about 10 minutes if you remove slicing\n",
    "rosters = {season:{team:getRoster(team,season) for team in teams.TEAM_ID[:2]} for season in seasons[:2]}\n",
    "pickle.dump(rosters,open('rostersraw.p','wb'))"
   ]
  },
  {
   "cell_type": "markdown",
   "metadata": {},
   "source": [
    "## Final Thoughts\n",
    "\n",
    "Patience is definitely required when scraping this data. My method was to make sure the code worked for the first few iterations of each function and run the code on its own while I stepped away from the computer. The full raw data files are located in the data folder of the repo as \"dkDataraw.p\" and \"gamelogsraw.json\". To see how I went about cleaning the data, shift over to the Data Wrangling Notebook."
   ]
  },
  {
   "cell_type": "code",
   "execution_count": 40,
   "metadata": {},
   "outputs": [
    {
     "data": {
      "text/html": [
       "<div>\n",
       "<style>\n",
       "    .dataframe thead tr:only-child th {\n",
       "        text-align: right;\n",
       "    }\n",
       "\n",
       "    .dataframe thead th {\n",
       "        text-align: left;\n",
       "    }\n",
       "\n",
       "    .dataframe tbody tr th {\n",
       "        vertical-align: top;\n",
       "    }\n",
       "</style>\n",
       "<table border=\"1\" class=\"dataframe\">\n",
       "  <thead>\n",
       "    <tr style=\"text-align: right;\">\n",
       "      <th></th>\n",
       "      <th>SEASON_ID</th>\n",
       "      <th>Player_ID</th>\n",
       "      <th>Game_ID</th>\n",
       "      <th>GAME_DATE</th>\n",
       "      <th>MATCHUP</th>\n",
       "      <th>WL</th>\n",
       "      <th>MIN</th>\n",
       "      <th>FGM</th>\n",
       "      <th>FGA</th>\n",
       "      <th>FG_PCT</th>\n",
       "      <th>...</th>\n",
       "      <th>DREB</th>\n",
       "      <th>REB</th>\n",
       "      <th>AST</th>\n",
       "      <th>STL</th>\n",
       "      <th>BLK</th>\n",
       "      <th>TOV</th>\n",
       "      <th>PF</th>\n",
       "      <th>PTS</th>\n",
       "      <th>PLUS_MINUS</th>\n",
       "      <th>VIDEO_AVAILABLE</th>\n",
       "    </tr>\n",
       "  </thead>\n",
       "  <tbody>\n",
       "    <tr>\n",
       "      <th>0</th>\n",
       "      <td>22007</td>\n",
       "      <td>201166</td>\n",
       "      <td>0020701226</td>\n",
       "      <td>APR 16, 2008</td>\n",
       "      <td>HOU vs. LAC</td>\n",
       "      <td>W</td>\n",
       "      <td>17</td>\n",
       "      <td>3</td>\n",
       "      <td>8</td>\n",
       "      <td>0.375</td>\n",
       "      <td>...</td>\n",
       "      <td>1</td>\n",
       "      <td>1</td>\n",
       "      <td>1</td>\n",
       "      <td>2</td>\n",
       "      <td>0</td>\n",
       "      <td>0</td>\n",
       "      <td>2</td>\n",
       "      <td>8</td>\n",
       "      <td>-7</td>\n",
       "      <td>0</td>\n",
       "    </tr>\n",
       "    <tr>\n",
       "      <th>1</th>\n",
       "      <td>22007</td>\n",
       "      <td>201166</td>\n",
       "      <td>0020701208</td>\n",
       "      <td>APR 14, 2008</td>\n",
       "      <td>HOU @ UTA</td>\n",
       "      <td>L</td>\n",
       "      <td>14</td>\n",
       "      <td>2</td>\n",
       "      <td>5</td>\n",
       "      <td>0.400</td>\n",
       "      <td>...</td>\n",
       "      <td>0</td>\n",
       "      <td>0</td>\n",
       "      <td>3</td>\n",
       "      <td>0</td>\n",
       "      <td>0</td>\n",
       "      <td>1</td>\n",
       "      <td>4</td>\n",
       "      <td>8</td>\n",
       "      <td>-5</td>\n",
       "      <td>0</td>\n",
       "    </tr>\n",
       "    <tr>\n",
       "      <th>2</th>\n",
       "      <td>22007</td>\n",
       "      <td>201166</td>\n",
       "      <td>0020701201</td>\n",
       "      <td>APR 13, 2008</td>\n",
       "      <td>HOU @ DEN</td>\n",
       "      <td>L</td>\n",
       "      <td>17</td>\n",
       "      <td>2</td>\n",
       "      <td>8</td>\n",
       "      <td>0.250</td>\n",
       "      <td>...</td>\n",
       "      <td>0</td>\n",
       "      <td>0</td>\n",
       "      <td>3</td>\n",
       "      <td>0</td>\n",
       "      <td>0</td>\n",
       "      <td>1</td>\n",
       "      <td>3</td>\n",
       "      <td>7</td>\n",
       "      <td>-5</td>\n",
       "      <td>0</td>\n",
       "    </tr>\n",
       "    <tr>\n",
       "      <th>3</th>\n",
       "      <td>22007</td>\n",
       "      <td>201166</td>\n",
       "      <td>0020701184</td>\n",
       "      <td>APR 11, 2008</td>\n",
       "      <td>HOU vs. PHX</td>\n",
       "      <td>W</td>\n",
       "      <td>18</td>\n",
       "      <td>3</td>\n",
       "      <td>4</td>\n",
       "      <td>0.750</td>\n",
       "      <td>...</td>\n",
       "      <td>2</td>\n",
       "      <td>2</td>\n",
       "      <td>3</td>\n",
       "      <td>0</td>\n",
       "      <td>0</td>\n",
       "      <td>1</td>\n",
       "      <td>4</td>\n",
       "      <td>7</td>\n",
       "      <td>7</td>\n",
       "      <td>0</td>\n",
       "    </tr>\n",
       "    <tr>\n",
       "      <th>4</th>\n",
       "      <td>22007</td>\n",
       "      <td>201166</td>\n",
       "      <td>0020701171</td>\n",
       "      <td>APR 09, 2008</td>\n",
       "      <td>HOU vs. SEA</td>\n",
       "      <td>W</td>\n",
       "      <td>17</td>\n",
       "      <td>4</td>\n",
       "      <td>8</td>\n",
       "      <td>0.500</td>\n",
       "      <td>...</td>\n",
       "      <td>4</td>\n",
       "      <td>4</td>\n",
       "      <td>4</td>\n",
       "      <td>0</td>\n",
       "      <td>1</td>\n",
       "      <td>4</td>\n",
       "      <td>1</td>\n",
       "      <td>11</td>\n",
       "      <td>10</td>\n",
       "      <td>0</td>\n",
       "    </tr>\n",
       "  </tbody>\n",
       "</table>\n",
       "<p>5 rows × 27 columns</p>\n",
       "</div>"
      ],
      "text/plain": [
       "  SEASON_ID  Player_ID     Game_ID     GAME_DATE      MATCHUP WL  MIN  FGM  \\\n",
       "0     22007     201166  0020701226  APR 16, 2008  HOU vs. LAC  W   17    3   \n",
       "1     22007     201166  0020701208  APR 14, 2008    HOU @ UTA  L   14    2   \n",
       "2     22007     201166  0020701201  APR 13, 2008    HOU @ DEN  L   17    2   \n",
       "3     22007     201166  0020701184  APR 11, 2008  HOU vs. PHX  W   18    3   \n",
       "4     22007     201166  0020701171  APR 09, 2008  HOU vs. SEA  W   17    4   \n",
       "\n",
       "   FGA  FG_PCT       ...         DREB  REB  AST  STL  BLK  TOV  PF  PTS  \\\n",
       "0    8   0.375       ...            1    1    1    2    0    0   2    8   \n",
       "1    5   0.400       ...            0    0    3    0    0    1   4    8   \n",
       "2    8   0.250       ...            0    0    3    0    0    1   3    7   \n",
       "3    4   0.750       ...            2    2    3    0    0    1   4    7   \n",
       "4    8   0.500       ...            4    4    4    0    1    4   1   11   \n",
       "\n",
       "   PLUS_MINUS  VIDEO_AVAILABLE  \n",
       "0          -7                0  \n",
       "1          -5                0  \n",
       "2          -5                0  \n",
       "3           7                0  \n",
       "4          10                0  \n",
       "\n",
       "[5 rows x 27 columns]"
      ]
     },
     "execution_count": 40,
     "metadata": {},
     "output_type": "execute_result"
    }
   ],
   "source": [
    "gamelogs['2007-08']['Aaron Brooks'].head()"
   ]
  }
 ],
 "metadata": {
  "kernelspec": {
   "display_name": "Python 3",
   "language": "python",
   "name": "python3"
  },
  "language_info": {
   "codemirror_mode": {
    "name": "ipython",
    "version": 3
   },
   "file_extension": ".py",
   "mimetype": "text/x-python",
   "name": "python",
   "nbconvert_exporter": "python",
   "pygments_lexer": "ipython3",
   "version": "3.6.3"
  }
 },
 "nbformat": 4,
 "nbformat_minor": 2
}
