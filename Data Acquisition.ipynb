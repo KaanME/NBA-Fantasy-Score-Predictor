{
 "cells": [
  {
   "cell_type": "markdown",
   "metadata": {
    "collapsed": true
   },
   "source": [
    "# Data Acquisition: Scraping DraftKings and NBA Data\n",
    "\n",
    "## 1) Import relevant packages"
   ]
  },
  {
   "cell_type": "code",
   "execution_count": 30,
   "metadata": {
    "collapsed": true
   },
   "outputs": [],
   "source": [
    "import pandas as pd\n",
    "import requests\n",
    "from bs4 import BeautifulSoup\n",
    "import datetime as dt\n",
    "import pickle\n",
    "import json\n",
    "import time\n",
    "\n"
   ]
  },
  {
   "cell_type": "markdown",
   "metadata": {},
   "source": [
    "## 2) Scrape DraftKings data from Rotoguru\n",
    "\n",
    "Rotoguru is a website that contains DraftKings and Fan Duel daily NBA fantasy data for each day of the NBA season. \n",
    "The data in each table contains the player names, the team they play for, the opponent team the daily fantasy score\n",
    "and salary of each player on a given night on a datetime index. The data only goes back to the 2014-15 season, and the stats column is all text with missing information, so this dataset alone will not be enough for the project. \n",
    "\n",
    "### Define constants and functions"
   ]
  },
  {
   "cell_type": "code",
   "execution_count": 31,
   "metadata": {
    "collapsed": true
   },
   "outputs": [],
   "source": [
    "#The base url is constant except for the year, month, and day\n",
    "base_url = 'http://rotoguru1.com/cgi-bin/hyday.pl?game=dk&mon=MONTH&day=DAY&year=YEAR'\n",
    "\n",
    "#need string values of each day month and year we're concerned with\n",
    "days = [str(x) for x in range(1,32)]\n",
    "\n",
    "#there are no NBA games from July to September\n",
    "months = ['1','2','3','4','5','6','10','11','12']\n",
    "\n",
    "#Rotoguru data only goes back to the 2014-15 season\n",
    "years = [str(x) for x in range(2014,2019)]\n",
    "\n",
    "#Loop through each day, month, and year with function to pull the relevant table from the base_url\n",
    "def rotoScrape(year,month,day):\n",
    "    global base_url\n",
    "    \n",
    "    #sanity check to see where your loop is, not required\n",
    "    print(year + '-' + month + '-' + day) \n",
    "    \n",
    "    #pull and request the url, than use Beautiful soup to bring in desired table\n",
    "    url = base_url.replace('DAY',day).replace('MONTH',month).replace('YEAR',year)\n",
    "    r = requests.get(url)\n",
    "    soup = BeautifulSoup(r.content,'lxml')\n",
    "    \n",
    "    #the 10th table on each page is where the relevant information lies\n",
    "    table = soup.find_all('table')[9]\n",
    "    \n",
    "    #some days don't have any games, or no data, mark those pages with 'error' string\n",
    "    try:\n",
    "        #the table returned with soup has a few indexes, we only want the first\n",
    "        return pd.read_html(str(table))[0]\n",
    "    except ValueError:\n",
    "        return 'error'\n",
    "\n"
   ]
  },
  {
   "cell_type": "markdown",
   "metadata": {},
   "source": [
    "### Scrape the data\n",
    "#### NOTE: function takes about 2-3 seconds per loop, looping through every year, month, day will take 10-15 minutes"
   ]
  },
  {
   "cell_type": "code",
   "execution_count": 32,
   "metadata": {
    "scrolled": false
   },
   "outputs": [
    {
     "name": "stdout",
     "output_type": "stream",
     "text": [
      "2015-1-1\n",
      "2015-1-2\n",
      "2015-1-3\n"
     ]
    }
   ],
   "source": [
    "#create a dictionary with the days as keys and the scraped data as values, remove slicing to loop through all data\n",
    "DKdata = {(year+'-'+month+'-'+day):rotoScrape(year,month,day) \n",
    "                for year in years[1:2] for month in months[:1] for day in days[:3]}\n",
    "\n",
    "#write the dictionary of dataframes into a pickle file\n",
    "pickle.dump(DKdata,open('dk_partial.p','wb'))\n"
   ]
  },
  {
   "cell_type": "markdown",
   "metadata": {},
   "source": [
    "## 3) Scrape NBA  Boxscore Data\n",
    "\n",
    "The nba_py package on Github is a great resource for scraping the NBA.com API. In order to have a large enough dataset, I scraped every players gamelogs for every regular season game in every year since theurn of the century. This dataset contains the player name, NBA player ID, the team they're on and the opponent as well as every box score stat.\n",
    "\n",
    "### Import relevant nba_py functions\n",
    "\n",
    "The GameLog function in nba_py takes a season as the input and the .overall attribute returns a dataframe of each boxscore of every player or team for the season."
   ]
  },
  {
   "cell_type": "code",
   "execution_count": 49,
   "metadata": {
    "collapsed": true
   },
   "outputs": [],
   "source": [
    "#For NBA data use the nba_py package\n",
    "import nba_py\n",
    "from nba_py.player import PlayerList\n",
    "from nba_py.league import GameLog, PlayerStats\n"
   ]
  },
  {
   "cell_type": "markdown",
   "metadata": {},
   "source": [
    "### Obtain Player Gamelogs"
   ]
  },
  {
   "cell_type": "code",
   "execution_count": 52,
   "metadata": {},
   "outputs": [
    {
     "data": {
      "text/html": [
       "<div>\n",
       "<style>\n",
       "    .dataframe thead tr:only-child th {\n",
       "        text-align: right;\n",
       "    }\n",
       "\n",
       "    .dataframe thead th {\n",
       "        text-align: left;\n",
       "    }\n",
       "\n",
       "    .dataframe tbody tr th {\n",
       "        vertical-align: top;\n",
       "    }\n",
       "</style>\n",
       "<table border=\"1\" class=\"dataframe\">\n",
       "  <thead>\n",
       "    <tr style=\"text-align: right;\">\n",
       "      <th></th>\n",
       "      <th>SEASON_ID</th>\n",
       "      <th>PLAYER_ID</th>\n",
       "      <th>PLAYER_NAME</th>\n",
       "      <th>TEAM_ID</th>\n",
       "      <th>TEAM_ABBREVIATION</th>\n",
       "      <th>TEAM_NAME</th>\n",
       "      <th>GAME_ID</th>\n",
       "      <th>GAME_DATE</th>\n",
       "      <th>MATCHUP</th>\n",
       "      <th>WL</th>\n",
       "      <th>...</th>\n",
       "      <th>DREB</th>\n",
       "      <th>REB</th>\n",
       "      <th>AST</th>\n",
       "      <th>STL</th>\n",
       "      <th>BLK</th>\n",
       "      <th>TOV</th>\n",
       "      <th>PF</th>\n",
       "      <th>PTS</th>\n",
       "      <th>PLUS_MINUS</th>\n",
       "      <th>VIDEO_AVAILABLE</th>\n",
       "    </tr>\n",
       "  </thead>\n",
       "  <tbody>\n",
       "    <tr>\n",
       "      <th>0</th>\n",
       "      <td>22000</td>\n",
       "      <td>711</td>\n",
       "      <td>Jerry Stackhouse</td>\n",
       "      <td>1610612765</td>\n",
       "      <td>DET</td>\n",
       "      <td>Detroit Pistons</td>\n",
       "      <td>0020001068</td>\n",
       "      <td>2001-04-03</td>\n",
       "      <td>DET @ CHI</td>\n",
       "      <td>W</td>\n",
       "      <td>...</td>\n",
       "      <td>4</td>\n",
       "      <td>4</td>\n",
       "      <td>5</td>\n",
       "      <td>1</td>\n",
       "      <td>0</td>\n",
       "      <td>4</td>\n",
       "      <td>2</td>\n",
       "      <td>57</td>\n",
       "      <td>34</td>\n",
       "      <td>0</td>\n",
       "    </tr>\n",
       "    <tr>\n",
       "      <th>1</th>\n",
       "      <td>22000</td>\n",
       "      <td>947</td>\n",
       "      <td>Allen Iverson</td>\n",
       "      <td>1610612755</td>\n",
       "      <td>PHI</td>\n",
       "      <td>Philadelphia 76ers</td>\n",
       "      <td>0020000477</td>\n",
       "      <td>2001-01-06</td>\n",
       "      <td>PHI @ CLE</td>\n",
       "      <td>W</td>\n",
       "      <td>...</td>\n",
       "      <td>3</td>\n",
       "      <td>3</td>\n",
       "      <td>3</td>\n",
       "      <td>3</td>\n",
       "      <td>1</td>\n",
       "      <td>4</td>\n",
       "      <td>3</td>\n",
       "      <td>54</td>\n",
       "      <td>5</td>\n",
       "      <td>0</td>\n",
       "    </tr>\n",
       "    <tr>\n",
       "      <th>2</th>\n",
       "      <td>22000</td>\n",
       "      <td>960</td>\n",
       "      <td>Tony Delk</td>\n",
       "      <td>1610612756</td>\n",
       "      <td>PHX</td>\n",
       "      <td>Phoenix Suns</td>\n",
       "      <td>0020000449</td>\n",
       "      <td>2001-01-02</td>\n",
       "      <td>PHX @ SAC</td>\n",
       "      <td>L</td>\n",
       "      <td>...</td>\n",
       "      <td>3</td>\n",
       "      <td>6</td>\n",
       "      <td>0</td>\n",
       "      <td>1</td>\n",
       "      <td>0</td>\n",
       "      <td>2</td>\n",
       "      <td>1</td>\n",
       "      <td>53</td>\n",
       "      <td>7</td>\n",
       "      <td>0</td>\n",
       "    </tr>\n",
       "    <tr>\n",
       "      <th>3</th>\n",
       "      <td>22000</td>\n",
       "      <td>947</td>\n",
       "      <td>Allen Iverson</td>\n",
       "      <td>1610612755</td>\n",
       "      <td>PHI</td>\n",
       "      <td>Philadelphia 76ers</td>\n",
       "      <td>0020000579</td>\n",
       "      <td>2001-01-21</td>\n",
       "      <td>PHI vs. TOR</td>\n",
       "      <td>L</td>\n",
       "      <td>...</td>\n",
       "      <td>2</td>\n",
       "      <td>3</td>\n",
       "      <td>4</td>\n",
       "      <td>1</td>\n",
       "      <td>0</td>\n",
       "      <td>4</td>\n",
       "      <td>4</td>\n",
       "      <td>51</td>\n",
       "      <td>-8</td>\n",
       "      <td>0</td>\n",
       "    </tr>\n",
       "    <tr>\n",
       "      <th>4</th>\n",
       "      <td>22000</td>\n",
       "      <td>185</td>\n",
       "      <td>Chris Webber</td>\n",
       "      <td>1610612758</td>\n",
       "      <td>SAC</td>\n",
       "      <td>Sacramento Kings</td>\n",
       "      <td>0020000471</td>\n",
       "      <td>2001-01-05</td>\n",
       "      <td>SAC vs. IND</td>\n",
       "      <td>L</td>\n",
       "      <td>...</td>\n",
       "      <td>16</td>\n",
       "      <td>26</td>\n",
       "      <td>5</td>\n",
       "      <td>3</td>\n",
       "      <td>2</td>\n",
       "      <td>4</td>\n",
       "      <td>4</td>\n",
       "      <td>51</td>\n",
       "      <td>-1</td>\n",
       "      <td>0</td>\n",
       "    </tr>\n",
       "  </tbody>\n",
       "</table>\n",
       "<p>5 rows × 31 columns</p>\n",
       "</div>"
      ],
      "text/plain": [
       "  SEASON_ID  PLAYER_ID       PLAYER_NAME     TEAM_ID TEAM_ABBREVIATION  \\\n",
       "0     22000        711  Jerry Stackhouse  1610612765               DET   \n",
       "1     22000        947     Allen Iverson  1610612755               PHI   \n",
       "2     22000        960         Tony Delk  1610612756               PHX   \n",
       "3     22000        947     Allen Iverson  1610612755               PHI   \n",
       "4     22000        185      Chris Webber  1610612758               SAC   \n",
       "\n",
       "            TEAM_NAME     GAME_ID   GAME_DATE      MATCHUP WL  \\\n",
       "0     Detroit Pistons  0020001068  2001-04-03    DET @ CHI  W   \n",
       "1  Philadelphia 76ers  0020000477  2001-01-06    PHI @ CLE  W   \n",
       "2        Phoenix Suns  0020000449  2001-01-02    PHX @ SAC  L   \n",
       "3  Philadelphia 76ers  0020000579  2001-01-21  PHI vs. TOR  L   \n",
       "4    Sacramento Kings  0020000471  2001-01-05  SAC vs. IND  L   \n",
       "\n",
       "        ...         DREB  REB  AST  STL  BLK  TOV  PF  PTS  PLUS_MINUS  \\\n",
       "0       ...            4    4    5    1    0    4   2   57          34   \n",
       "1       ...            3    3    3    3    1    4   3   54           5   \n",
       "2       ...            3    6    0    1    0    2   1   53           7   \n",
       "3       ...            2    3    4    1    0    4   4   51          -8   \n",
       "4       ...           16   26    5    3    2    4   4   51          -1   \n",
       "\n",
       "   VIDEO_AVAILABLE  \n",
       "0                0  \n",
       "1                0  \n",
       "2                0  \n",
       "3                0  \n",
       "4                0  \n",
       "\n",
       "[5 rows x 31 columns]"
      ]
     },
     "execution_count": 52,
     "metadata": {},
     "output_type": "execute_result"
    }
   ],
   "source": [
    "#The nba_py GameLog function takes season as an input in the YYYY-yy format\n",
    "seasons = [str(x)+'-'+str(x+1)[-2:] for x in range(2000,2018)]\n",
    "\n",
    "plyr_logs = pd.DataFrame()\n",
    "#loop through each season and append the dataframes\n",
    "#NOTE this will take about 10 minutes if you loop through all seasons\n",
    "for season in seasons:\n",
    "    #setting player_or_team to 'P' return player boxcores.\n",
    "    plyr_logs = plyr_logs.append(GameLog(season=season, season_type='Regular Season', player_or_team='P').overall())\n",
    "\n",
    "plyr_logs.to_csv('player_logs_partial.csv')\n",
    "plyr_logs.head()"
   ]
  },
  {
   "cell_type": "markdown",
   "metadata": {},
   "source": [
    "### Obtain Team Gamelogs"
   ]
  },
  {
   "cell_type": "code",
   "execution_count": 37,
   "metadata": {
    "collapsed": true
   },
   "outputs": [],
   "source": [
    "#same process as obtaining player logs\n",
    "team_logs = pd.DataFrame()\n",
    "for season in seasons:\n",
    "    team_logs = team_logs.append(GameLog(season=season, season_type='Regular Season', player_or_team='T').overall())\n",
    "team_logs.to_csv('team_logs.csv')"
   ]
  },
  {
   "cell_type": "markdown",
   "metadata": {},
   "source": [
    "## 4) Scrape NBA Roster Data\n",
    "\n",
    "This will give us roster information such as the teamID of each player as well as their position, weight, height, and more."
   ]
  },
  {
   "cell_type": "code",
   "execution_count": 41,
   "metadata": {
    "collapsed": true
   },
   "outputs": [],
   "source": [
    "#Import team module from nba_py\n",
    "from nba_py import team\n",
    "\n",
    "#define function to get roster for a team in a given season, \n",
    "def getRoster(teamId, season):\n",
    "    #sanity check for looping progress\n",
    "    print(season)\n",
    "    #NBA API requires some sleep time or else it freezes\n",
    "    time.sleep(.5)\n",
    "    return team.TeamCommonRoster(teamId, season= season).roster()"
   ]
  },
  {
   "cell_type": "code",
   "execution_count": 42,
   "metadata": {},
   "outputs": [
    {
     "data": {
      "text/html": [
       "<div>\n",
       "<style>\n",
       "    .dataframe thead tr:only-child th {\n",
       "        text-align: right;\n",
       "    }\n",
       "\n",
       "    .dataframe thead th {\n",
       "        text-align: left;\n",
       "    }\n",
       "\n",
       "    .dataframe tbody tr th {\n",
       "        vertical-align: top;\n",
       "    }\n",
       "</style>\n",
       "<table border=\"1\" class=\"dataframe\">\n",
       "  <thead>\n",
       "    <tr style=\"text-align: right;\">\n",
       "      <th></th>\n",
       "      <th>LEAGUE_ID</th>\n",
       "      <th>TEAM_ID</th>\n",
       "      <th>MIN_YEAR</th>\n",
       "      <th>MAX_YEAR</th>\n",
       "      <th>ABBREVIATION</th>\n",
       "    </tr>\n",
       "  </thead>\n",
       "  <tbody>\n",
       "    <tr>\n",
       "      <th>0</th>\n",
       "      <td>00</td>\n",
       "      <td>1610612737</td>\n",
       "      <td>1949</td>\n",
       "      <td>2017</td>\n",
       "      <td>ATL</td>\n",
       "    </tr>\n",
       "    <tr>\n",
       "      <th>1</th>\n",
       "      <td>00</td>\n",
       "      <td>1610612738</td>\n",
       "      <td>1946</td>\n",
       "      <td>2017</td>\n",
       "      <td>BOS</td>\n",
       "    </tr>\n",
       "    <tr>\n",
       "      <th>2</th>\n",
       "      <td>00</td>\n",
       "      <td>1610612739</td>\n",
       "      <td>1970</td>\n",
       "      <td>2017</td>\n",
       "      <td>CLE</td>\n",
       "    </tr>\n",
       "    <tr>\n",
       "      <th>3</th>\n",
       "      <td>00</td>\n",
       "      <td>1610612740</td>\n",
       "      <td>2002</td>\n",
       "      <td>2017</td>\n",
       "      <td>NOP</td>\n",
       "    </tr>\n",
       "    <tr>\n",
       "      <th>4</th>\n",
       "      <td>00</td>\n",
       "      <td>1610612741</td>\n",
       "      <td>1966</td>\n",
       "      <td>2017</td>\n",
       "      <td>CHI</td>\n",
       "    </tr>\n",
       "  </tbody>\n",
       "</table>\n",
       "</div>"
      ],
      "text/plain": [
       "  LEAGUE_ID     TEAM_ID MIN_YEAR MAX_YEAR ABBREVIATION\n",
       "0        00  1610612737     1949     2017          ATL\n",
       "1        00  1610612738     1946     2017          BOS\n",
       "2        00  1610612739     1970     2017          CLE\n",
       "3        00  1610612740     2002     2017          NOP\n",
       "4        00  1610612741     1966     2017          CHI"
      ]
     },
     "execution_count": 42,
     "metadata": {},
     "output_type": "execute_result"
    }
   ],
   "source": [
    "#Pull the list of teams with the teamlist function\n",
    "teams = team.TeamList().info()\n",
    "teams.head()"
   ]
  },
  {
   "cell_type": "code",
   "execution_count": 46,
   "metadata": {},
   "outputs": [
    {
     "name": "stdout",
     "output_type": "stream",
     "text": [
      "Number of Teams: 30\n"
     ]
    }
   ],
   "source": [
    "#We only want teams that are currently active\n",
    "teams = teams.loc[teams.MAX_YEAR == '2017']    \n",
    "print('Number of Teams:',len(teams))"
   ]
  },
  {
   "cell_type": "code",
   "execution_count": 47,
   "metadata": {},
   "outputs": [
    {
     "name": "stdout",
     "output_type": "stream",
     "text": [
      "2007-08\n",
      "2007-08\n",
      "2008-09\n",
      "2008-09\n"
     ]
    }
   ],
   "source": [
    "#Remove slicing to loop through every team in past 10 years\n",
    "#NOTE: this will take about 10 minutes if you remove slicing\n",
    "rosters = {season:{team:getRoster(team,season) for team in teams.TEAM_ID[:2]} for season in seasons[:2]}\n",
    "pickle.dump(rosters,open('rostersraw_partial.p','wb'))"
   ]
  },
  {
   "cell_type": "markdown",
   "metadata": {},
   "source": [
    "## Final Thoughts\n",
    "\n",
    "Patience is definitely required when scraping this data. My method was to make sure the code worked for the first few iterations of each function and run the code on its own while I stepped away from the computer. The full raw data files are located in the data folder of the repo as \"dkDataraw.p\", \"player_logs.csv\", and \"team_logs.csv'. To see how I went about cleaning the data, shift over to the Data Wrangling Notebooks."
   ]
  }
 ],
 "metadata": {
  "kernelspec": {
   "display_name": "Python 3",
   "language": "python",
   "name": "python3"
  },
  "language_info": {
   "codemirror_mode": {
    "name": "ipython",
    "version": 3
   },
   "file_extension": ".py",
   "mimetype": "text/x-python",
   "name": "python",
   "nbconvert_exporter": "python",
   "pygments_lexer": "ipython3",
   "version": "3.6.3"
  }
 },
 "nbformat": 4,
 "nbformat_minor": 2
}
