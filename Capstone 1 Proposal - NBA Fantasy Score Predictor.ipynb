{
 "cells": [
  {
   "cell_type": "markdown",
   "metadata": {},
   "source": [
    "# Proposal: Predicting the Daily Fantasy Score of an NBA Player\n",
    "\n",
    "## Problem\n",
    "\n",
    " A recent focus point for the NBA is the legalization of organized gambling. This would be a huge development for classic betting sites as well as daily fantasy companies such as DraftKings and Fan Duel. Accurately predicting the potential statistics or daily fantasy score of a player for a given night will be more important than ever before. There are several factors that go into predicting a players performance from days of rest, to opponent quality, to performance of the player to date. I propose to use NBA box score data for the past 4 years to build a machine learning model to predict the daily fantasy score for an NBA player on any given night.\n",
    " \n",
    " \n",
    "## Who Care's?\n",
    "\n",
    "Daily Fantasy companies such as DraftKings, Fan Duel, and Draft want to provide the most accurate lines for each player's performance every night. Accuracy in score prediction will give them a better sense of where to place the score lines. This would also provide customers more confidence in the choices they make in preparing their lineups every day. The more prepared the model is, the less prepared the average fan needs to be in order to play. The NBA might also be looking to partner with a daily fantasy service, and an accurate score predicting model will improve a company's chances. \n",
    "\n",
    "## The Data\n",
    "\n",
    "The box score data will be acquired from the NBA API using the nba_py package. This data will include the box score for every player for every game they played in for the past 11 seasons. Historical daily fantasy score data will be scraped from Rotoguru.com. Using the DraftKings scor +This dataset will contain the DraftKings daily fantasy scores and salaries for each player since the 2014-15 season (that is the extent of the data available). Using the scoring system from DraftKings, the fantasy scores for all seasons prior to the 2014-15 season will be derived. \n",
    "\n",
    "## Project Outline\n",
    "\n",
    "There are several different factors to consider in this problem. First, finding a correlation between the fantasy score of a players last game and the players last n games could provide important information. From there, player performance given the amount of rest they had since their last game played, or the amount of off days in the past week, could provide varying results. The opponent fantasy scores in their last N games could also be a factor. After cleaning the data and performing exploratory analysis, I will use machine learning algorithms to predict the fantasy score of a player given their past performance and the opponent they are facing.\n",
    "\n",
    "## Limitations\n",
    "\n",
    "Since the model will base its result off of past performance in the league, predicting the scores for rookies, especially the first half of the season, will rely on very limited data. This can be fixed by looking at college performance, but that will be out of the scope of this project. Injury data was also not applied to this project. Players returning from injury could suffer in performance depending on the severity of the injury. Cultural and organizational factors are obviously not going to be considered, but the future of this field will likely try and quantify those social aspects of the game as well."
   ]
  }
 ],
 "metadata": {
  "kernelspec": {
   "display_name": "Python 3",
   "language": "python",
   "name": "python3"
  },
  "language_info": {
   "codemirror_mode": {
    "name": "ipython",
    "version": 3
   },
   "file_extension": ".py",
   "mimetype": "text/x-python",
   "name": "python",
   "nbconvert_exporter": "python",
   "pygments_lexer": "ipython3",
   "version": "3.6.3"
  }
 },
 "nbformat": 4,
 "nbformat_minor": 2
}
